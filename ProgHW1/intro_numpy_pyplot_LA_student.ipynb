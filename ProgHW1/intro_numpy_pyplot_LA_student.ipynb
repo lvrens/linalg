{
 "cells": [
  {
   "cell_type": "markdown",
   "id": "96a187a3",
   "metadata": {},
   "source": [
    "# Introduction to the use of notebooks\n",
    "\n",
    "## Python 3\n",
    "\n",
    "First things first, for all assignments in this course we will use the programming language *Python*, version 3. Which specific version of 3 you use is not that important, currently the most recent version is 3.11.1 *Python* should already be installed on your *Ubuntu* machine, you can run it by typing\n",
    "\n",
    "    python3\n",
    "\n",
    "If it is not installed, just follow the download instructions at [python.org](http://www.python.org). You will also need *pip*, which is a package manager for *Python* with the recursive acronym: *Pip Installs Packages*. Install by typing the following commands on your terminal:\n",
    "\n",
    "    sudo apt-get install python3-pip\n",
    "    sudo pip3 install --upgrade pip\n",
    "\n",
    "## Jupyter notebook\n",
    "\n",
    "All assignments will be written in [Jupyter notebooks](http://jupyter.org/). These notebooks allow a mixture of nicely formatted text (even supporting $\\LaTeX$ for equations), *Python* code, experiment results and graphs, all on the same webpage. In fact, this assignment is also written in a notebook. In order to open it, first install Jupyter  \n",
    "\n",
    "    sudo pip3 install jupyter\n",
    "\n",
    "Now in your terminal, navigate to the directory where you placed the files for the assignment and run the command\n",
    "    \n",
    "    jupyter notebook\n",
    "\n",
    "This will print some information about the *Notebook* server in your console, and open a web browser to the URL of the web application. By defaut this is [http://127.0.0.1:8888](http://127.0.0.1:8888). Note that *127.0.0.1* is the home ip-adress, so this is now a webpage running on your own computer!\n",
    "\n",
    "This first page shows the dashboard, which lists the notebooks available in the current directory. You can create new notebooks from the dashboard with the `New` button (select *Python 3* notebook), or open existing ones. Creating a new notebook will create a new file `Untitled1.ipynb`. The extension `.ipynb` indicates it is a notebook file, you can rename the file to something more descriptive at the top of the page."
   ]
  },
  {
   "cell_type": "markdown",
   "id": "509dae93",
   "metadata": {},
   "source": [
    "### Notebook cells\n",
    "\n",
    "A notebook consists of a sequence of cells. A cell is a multi-line text input field, and its contents can be executed by pressing `Shift-Enter`, or by clicking the `Run` button at the top of your screen. What exactly this does depends on the type of cell. There are four types of cells: *code cells*, *markdown cells*, *raw cells* and *heading cells*. We will only focus on the first 2; code and markdown. Every cell starts off being a code cell, but its type can be changed by using a dropdown on the toolbar (which will be `Code`, initially).\n",
    "\n",
    "In a code cell you can write *Python* code. When you run that cell (click on it and press `Shift-Enter`) the code in the cell will run, and the output of the cell will be displayed beneath the cell. Lets try out a very simple code cell below"
   ]
  },
  {
   "cell_type": "code",
   "execution_count": 4,
   "id": "600519bc",
   "metadata": {},
   "outputs": [
    {
     "name": "stdout",
     "output_type": "stream",
     "text": [
      "7\n"
     ]
    }
   ],
   "source": [
    "x = 5\n",
    "x = x + 2\n",
    "print(x)"
   ]
  },
  {
   "cell_type": "markdown",
   "id": "86953765",
   "metadata": {},
   "source": [
    "This produces the output you might expect, the exact the same result as executing that bit of *Python* code in a terminal. You can modify the contents of the code cell and run it again with `Shift-Enter` to see how the output changes.\n",
    "\n",
    "Global variables are shared between cells. This means we can still use variables or functions from the first cell in a second cell, like so"
   ]
  },
  {
   "cell_type": "code",
   "execution_count": 5,
   "id": "b54b3370",
   "metadata": {},
   "outputs": [
    {
     "name": "stdout",
     "output_type": "stream",
     "text": [
      "14\n"
     ]
    }
   ],
   "source": [
    "y = 2 * x\n",
    "print(y)"
   ]
  },
  {
   "cell_type": "markdown",
   "id": "93c6fc8b",
   "metadata": {},
   "source": [
    "Notebooks are expected to be run top to bottom, starting with the first cell and ending with the last. **Failing to run some cells or running cells out of order is likely to result in errors.** For example, if we were to run the second cell before the first has been run the first, we would get an error saying `x` is not defined\n",
    "\n",
    "### Markdown\n",
    "\n",
    "*Markdown* is a simple way to format text using some extra symbols like asterisks (`*`) and underscores (`_`). You can do a simple [10 minute tutorial](http://www.markdowntutorial.com) or reference the [CheatSheet](http://commonmark.org/help/) for the available commands.\n",
    "\n",
    "If you set a notebook cell as a *Markdown* cell, you can write *Markdown* directly in the cell. When you run this cell, the markdown will be formatted to the *rich text*. if you **double-click** the *rich text*, you can go back to editing the markdown code. All these assignment texts are *Markdown* cells and it will be convenient to write longer answers in, instead of using code comments."
   ]
  },
  {
   "cell_type": "markdown",
   "id": "54883053",
   "metadata": {},
   "source": [
    "# Introduction to Numpy \n",
    "\n",
    "First to install numpy, enter the following command in your terminal\n",
    "\n",
    "    sudo pip3 install numpy\n",
    "\n",
    "Numpy is a Python library providing a wide variety of operations that can be performed on multi-dimensional arrays. Before you start, we ask you to read the first four sections of this [tutorial](https://www.w3schools.com/python/numpy/numpy_intro.asp) (up to and including the section \"Numpy creating arrays\"). Note that we already installed numpy, so you can skip this part.\n",
    "\n",
    "All the information you need for this notebook and the programming assignment, will be sections from the [W3schools tutorial](https://www.w3schools.com/python/numpy/default.asp) and the [official numpy tutorial](https://numpy.org/doc/stable/user/absolute_beginners.html). This is not an extensive introduction to numpy but it includes everything that you will need for the assignments for this course. \n",
    "\n",
    "### TODO 1\n",
    "\n",
    "Define and print a numpy array `matrix_0` representing the matrix\n",
    "$$\n",
    "\\begin{bmatrix} 2 & 4 & 6 \\\\ 7& 3 & 5  \\end{bmatrix}\n",
    "$$\n",
    "After reading the section \"Numpy Array Shape\" from the W3schools tutorial (or the [section](https://numpy.org/doc/stable/user/absolute_beginners.html#how-do-you-know-the-shape-and-size-of-an-array) from the official numpy tutorial about shapes), print also the shape of `matrix_0` and check that it indeed corresponds to a matrix with $2$ rows and $3$ columns."
   ]
  },
  {
   "cell_type": "code",
   "execution_count": 6,
   "id": "3d65714d",
   "metadata": {},
   "outputs": [
    {
     "ename": "NameError",
     "evalue": "name 'matrix_0' is not defined",
     "output_type": "error",
     "traceback": [
      "\u001b[0;31m---------------------------------------------------------------------------\u001b[0m",
      "\u001b[0;31mNameError\u001b[0m                                 Traceback (most recent call last)",
      "Input \u001b[0;32mIn [6]\u001b[0m, in \u001b[0;36m<cell line: 5>\u001b[0;34m()\u001b[0m\n\u001b[1;32m      1\u001b[0m \u001b[38;5;28;01mimport\u001b[39;00m \u001b[38;5;21;01mnumpy\u001b[39;00m \u001b[38;5;28;01mas\u001b[39;00m \u001b[38;5;21;01mnp\u001b[39;00m\n\u001b[1;32m      3\u001b[0m \u001b[38;5;66;03m# TODO\u001b[39;00m\n\u001b[0;32m----> 5\u001b[0m \u001b[38;5;28;01massert\u001b[39;00m np\u001b[38;5;241m.\u001b[39mshape(\u001b[43mmatrix_0\u001b[49m) \u001b[38;5;241m==\u001b[39m (\u001b[38;5;241m2\u001b[39m,\u001b[38;5;241m3\u001b[39m), \u001b[38;5;124m'\u001b[39m\u001b[38;5;124mIncorrect shape for the matrix\u001b[39m\u001b[38;5;124m'\u001b[39m\n",
      "\u001b[0;31mNameError\u001b[0m: name 'matrix_0' is not defined"
     ]
    }
   ],
   "source": [
    "import numpy as np\n",
    "\n",
    "# TODO\n",
    "\n",
    "assert np.shape(matrix_0) == (2,3), 'Incorrect shape for the matrix'"
   ]
  },
  {
   "cell_type": "markdown",
   "id": "58519452",
   "metadata": {},
   "source": [
    "### TODO 2\n",
    "\n",
    "Print the first row of `matrix_0` and print the second column of `matrix_0` after reading [\"Numpy Array Indexing\"](https://www.w3schools.com/python/numpy/numpy_array_indexing.asp) and [\"Numpy Array Slicing\"](https://www.w3schools.com/python/numpy/numpy_array_slicing.asp) (from the W3schools tutorial)."
   ]
  },
  {
   "cell_type": "code",
   "execution_count": null,
   "id": "2d709eef",
   "metadata": {},
   "outputs": [],
   "source": []
  },
  {
   "cell_type": "markdown",
   "id": "90255a8c",
   "metadata": {},
   "source": [
    "### TODO 3\n",
    "\n",
    "Before making this exercise, you should first read the [section](https://numpy.org/doc/stable/user/absolute_beginners.html#how-to-create-an-array-from-existing-data) about `vstack` and `hstack` and the [section](https://numpy.org/doc/stable/user/absolute_beginners.html#how-to-create-a-basic-array) about `np.zeros`. Now you should use `np.vstack` and `np.zeros` to make a new numpy array `matrix_1` obtained by adding a new row to `matrix_0`. This new row should be filled with $0$'s. So `matrix_1` should represent the matrix $$\\begin{bmatrix} 2 & 4 & 6 \\\\ 7 & 3 & 5 \\\\ 0 & 0 & 0\\end{bmatrix}$$.\n",
    "\n",
    "Make sure to print `matrix_1` to check if your answer is correct."
   ]
  },
  {
   "cell_type": "code",
   "execution_count": null,
   "id": "aa3d2f54",
   "metadata": {},
   "outputs": [],
   "source": []
  },
  {
   "cell_type": "markdown",
   "id": "28ccebae",
   "metadata": {},
   "source": [
    "As you can see in the section [\"Numpy Creating Arrays\"](https://www.w3schools.com/python/numpy/numpy_creating_arrays.asp) from the W3schools tutorial, numpy arrays can have different dimensions: there are 1D arrays, 2D arrays, 3D arrays, etc. The arrays that we built up to now, `matrix_0` and `matrix_1` are 2D arrays. In general, matrices correspond to 2D array. If you print the shape of a 2D array, it will always be of the form `(M,N)`, where `M` is the number of rows and `N` is the number of columns.\n",
    "\n",
    "But if we start representing, row vectors or colum vectors, then things get a bit more complicated. A row column, for example $v=[4,1,9]$, can be represented in two ways:\n",
    "* either as a 1D array: `v = np.array([4,1,9])`, and in this case, the shape of the array is of the form `(N,)`\n",
    "* or as a 2D array: `v = np.array([[4,1,9]])`, and in this case, the shape of the array is of the form `(1,N)`\n",
    "\n",
    "Column vectors, however, would correspond to 2D arrays. So for example, $u = [3,4]^T$ is represented by the 2D array `np.array([[3],[4]])`. Note that the shape of an array representing a column vector is always of the form `(N,1)`.\n",
    "\n",
    "### TODO 4\n",
    "\n",
    "* Define and print a 1D numpy array `vec_0` representing the row vector $\\vec{v} = [4,1,9]$. Print the shape of `vec_0` to make sure that `vec_0` is indeed a 1D array. \n",
    "\n",
    "* By reshaping `vec_0` (you need firs to read the [section](https://numpy.org/doc/stable/user/absolute_beginners.html#can-you-reshape-an-array) about reshaping arrays), define a 2D array `vec_1` representing $\\vec{v}$.\n",
    "\n",
    "* Finally, define a 2D array representing the column vector $[4,1,9]^T$. "
   ]
  },
  {
   "cell_type": "code",
   "execution_count": null,
   "id": "835c975c",
   "metadata": {},
   "outputs": [],
   "source": [
    "\n",
    "assert np.shape(vec_0) == (3,), 'vec_0 is not of the right shape'\n",
    "assert np.shape(vec_1) == (1,3), 'vec_1 is not of the right shape'\n",
    "assert np.shape(vec_2) == (3,1), 'vec_2 is not of the right shape'"
   ]
  },
  {
   "cell_type": "markdown",
   "id": "3cfaf05c",
   "metadata": {},
   "source": [
    "### TODO 5\n",
    "\n",
    "Now that you are familiar with `np.hstack` and `np.vstack`, try to think about the following commands and determine (without running them) which of them will work or which ones will give rise to an error.\n",
    "\n",
    "* `np.hstack((matrix_1, vec_0))`\n",
    "* `np.hstack((matrix_1, vec_1))`\n",
    "* `np.hstack((matrix_1, vec_2))`\n",
    "\n",
    "You can check your answer by running the commands."
   ]
  },
  {
   "cell_type": "code",
   "execution_count": null,
   "id": "afcf07d6",
   "metadata": {},
   "outputs": [],
   "source": []
  },
  {
   "cell_type": "markdown",
   "id": "9bd0944e",
   "metadata": {},
   "source": [
    "And what about these commands?\n",
    "\n",
    "* `np.vstack((matrix_1, vec_0))`\n",
    "* `np.vstack((matrix_1, vec_1))`\n",
    "* `np.vstack((matrix_1, vec_2))`\n",
    "\n",
    "You can again check your answer by running the commands."
   ]
  },
  {
   "cell_type": "code",
   "execution_count": null,
   "id": "2345eb98",
   "metadata": {},
   "outputs": [],
   "source": []
  },
  {
   "cell_type": "markdown",
   "id": "b6ae20d9",
   "metadata": {},
   "source": [
    "### Matrices\n",
    "\n",
    "A wide range of operations from linear algebra are already implemented for us in numpy. For example,\n",
    "\n",
    "* `np.matmul(A,B)` returns the matrix multiplication of `A` and `B`. You can also direclty use the shorthand `A@B`\n",
    "\n",
    "* `np.linalg.det(A)` returns the determinant of `A`\n",
    "\n",
    "* `A.T` is the transpose of `A`\n",
    "\n",
    "* `np.identity(n)` returns the numpy array representing the identity matrix of size $n \\times n$\n",
    "\n",
    "* `np.linalg.inv(A)` returns the inverse of `A`\n",
    "\n",
    "\n",
    "* etc."
   ]
  },
  {
   "cell_type": "markdown",
   "id": "3c42b861",
   "metadata": {},
   "source": [
    "# Introduction to Matplotlib\n",
    "\n",
    "Matplotlib is a plotting library for *Python*. Install it using\n",
    "\n",
    "    sudo pip3 install matplotlib\n",
    "\n",
    "Another library we will need is pandas, a common library for data analysis. You can install it using\n",
    "\n",
    "    sudo pip3 install pandas\n",
    "    \n",
    "One of the most used compontents of matplotlib is the `matplotlib.pyplot` module. You can read this quick [tutorial](https://matplotlib.org/stable/tutorials/introductory/pyplot.html#sphx-glr-tutorials-introductory-pyplot-py), but we will cover here the most basic features that you will need for the coming labs.\n",
    "\n",
    "The most basic command is the command to plot a line\n",
    "\n",
    "    plt.plot([1,2,3,4])\n",
    "\n",
    "The `plot` function is the core function of the library. The above function call\n",
    "plots the 4 y-values with implicit x-values of `range(4)`. Usually you would\n",
    "use the function as `plt.plot(xvalues, yvalues, label=\"some_text\")`. In this\n",
    "case you must make sure that `xvalues` and `yvalues` are the same size (as the\n",
    "first x-value will be plotted with the first y-value, and the second with the\n",
    "second, etc.). The full documentation for the `plot` function can be found here:\n",
    "[Plot Documentation](https://matplotlib.org/stable/api/_as_gen/matplotlib.pyplot.html?highlight=pyplot#module-matplotlib.pyplot)\n",
    "\n",
    "And finally, you should not forget to show your plot\n",
    "\n",
    "    plt.show()\n",
    "\n",
    "This tells matplotlib that you are done adding lines, labels and other stuff to your figure. A simple example to test with can be found below."
   ]
  },
  {
   "cell_type": "code",
   "execution_count": null,
   "id": "6f606e2e",
   "metadata": {},
   "outputs": [],
   "source": [
    "import matplotlib.pyplot as plt\n",
    "\n",
    "xvalues = range(4)\n",
    "yvalues = [x**2 for x in xvalues]\n",
    "plt.plot(xvalues, yvalues)\n",
    "plt.show()"
   ]
  },
  {
   "cell_type": "markdown",
   "id": "6f692e4b",
   "metadata": {},
   "source": [
    "### Making things look a little nicer\n",
    "\n",
    "The line above doesn't look very smooth, because we are using `range` for the *x-values*, meaning the samples will be taking the whole integer values and thus there are \"large\" gaps between the points. The easiest way to solve this, is simply with more samples, however range does not work so well with floating point values. The *Numpy* library has a lot useful functions, and one of those is *linspace*, which solves exactly this problem. For example, `numpy.linspace(0, 3, num=100)` creates an array with `100` values that are evenly spaced in a specified interval (in this case, the interval `[0,3]`). You can read the documentation of the function here: [linspace documenation](https://docs.scipy.org/doc/numpy/reference/generated/numpy.linspace.html)\n",
    "\n",
    "We can use *linspace* to take any number of samples evenly spaced over a specified range. Here we will take 100 samples over the same *[0, 3]* interval, and then apply the same square function. "
   ]
  },
  {
   "cell_type": "code",
   "execution_count": null,
   "id": "931f9377",
   "metadata": {},
   "outputs": [],
   "source": [
    "xvalues = np.linspace(0, 3, num=100)\n",
    "yvalues = [x**2 for x in xvalues]\n",
    "plt.plot(xvalues, yvalues)\n",
    "plt.show()"
   ]
  },
  {
   "cell_type": "markdown",
   "id": "0f39c738",
   "metadata": {},
   "source": [
    "In order to define `yvalues`, we constructed a list applying the function $x^2$, element by element, to the samples in `xvalues`. A more succint way to do this is to apply the function directly to the entire list. So we could have written `yvalues = xvalues**2` and obtained the same result. Note that this operation `xvalues**2` only works because `xvalues` is a numpy array (e.g. it would not have worked if `xvalues` would be a list), which is one of the nice thing of numpy arrays. \n",
    "​\n",
    "We wil plot now the function $\\sin$ over the interval $[-\\pi, \\pi]$. So we would like to write `yvalues = math.sin(xvalues)`. The problem is that `xvalues` is now a numpy array and `math.sin` only accepts a single integer or float as input. Numpy actually also has a function `np.sin` that allows us to apply the sinus function over a numpy array. "
   ]
  },
  {
   "cell_type": "code",
   "execution_count": null,
   "id": "d6d61576",
   "metadata": {},
   "outputs": [],
   "source": [
    "import math\n",
    "\n",
    "length_interval = 2*math.pi\n",
    "\n",
    "xvalues = np.linspace(-length_interval/2, length_interval/2, 256)\n",
    "yvalues = np.sin(xvalues)\n",
    "plt.plot(xvalues, yvalues, \n",
    "         label = f'Sinus over an interval of length {length_interval:.2f}')\n",
    "plt.legend(loc='upper left')\n",
    "plt.show()"
   ]
  },
  {
   "cell_type": "markdown",
   "id": "3bc817ff",
   "metadata": {},
   "source": [
    "Note that we also used the optional argument `label`. In that label, we wanted to insert the length of the interval and used the python string formatting syntax. Here we specifically used it to round $\\pi$ with precision $0.01$ (using `:.2f`).\n",
    "\n",
    "*(note: this introduction to matplotlib was originally designed for the course Leren from the bachelor KI, but is being reused here)*"
   ]
  },
  {
   "cell_type": "markdown",
   "id": "a5f3f6ad",
   "metadata": {},
   "source": [
    "### TODO 6: Plotting a line\n",
    "\n",
    "Plot a line connecting the points $(2,1)$ and $(3,4)$."
   ]
  },
  {
   "cell_type": "code",
   "execution_count": null,
   "id": "09fc1e4a",
   "metadata": {},
   "outputs": [],
   "source": [
    "# YOUR CODE HERE"
   ]
  },
  {
   "cell_type": "markdown",
   "id": "f34110bf",
   "metadata": {},
   "source": [
    "### TODO 7\n",
    "\n",
    "Plot the function $x^2 - 3 x^3 + x^4$ over the interval $[0,3]$ using `linspace`."
   ]
  },
  {
   "cell_type": "code",
   "execution_count": null,
   "id": "2e17c2a9",
   "metadata": {},
   "outputs": [],
   "source": [
    "# YOUR CODE HERE"
   ]
  },
  {
   "cell_type": "markdown",
   "id": "87797dda",
   "metadata": {},
   "source": [
    "### Plotting a dataset\n",
    "\n",
    "Sometimes instead of plotting a curve, you may just want to plot point(s) (for example, if you are plotting a dataset). Here is an example where we plot two points,  one at position $(2, 1)$ and one in position $(3, 4)$. Note that the only difference with plotting a line passing through these two points is the optional argument `'o'`. The marker `o` indicates that our points are represented by a circle. Try to replace `'o'` by `'s'` (the marker will become a square) or `'r.'` (the marker will be a small red circle)."
   ]
  },
  {
   "cell_type": "code",
   "execution_count": null,
   "id": "d1d16a9a",
   "metadata": {},
   "outputs": [],
   "source": [
    "plt.plot([2,3], [1,4], 'o')\n",
    "plt.show()\n",
    "\n",
    "plt.plot([2,3], [1,4], 's')\n",
    "plt.show()\n",
    "\n",
    "plt.plot([2,3], [1,4], 'r.')\n",
    "plt.show()"
   ]
  },
  {
   "cell_type": "markdown",
   "id": "610a2f10",
   "metadata": {},
   "source": [
    "We will now plot datasets for two different populations. Those datasets come from the famous [iris dataset](https:////en.wikipedia.org/wiki/Iris_flower_data_set). In the file `iris_cetosa.csv`, you can find the measurements for $50$ different iris from the species *cetosa*. Each iris is characterized by four features: `sepal_length`, `sepal_width`, `petal_length` and `petal_width`. Similarly, in the file `iris_versicolour.csv`, you can find the measurements of the same features for $50$ iris from the species *versicolour*.\n",
    "\n",
    "Using those csv files, we built two numpy arrays:\n",
    "* `setosa_np` is a numpy array where each row contains the petal length and the petal width of an iris  from the species cetosa\n",
    "\n",
    "* `versicolour_np` is a numpy array where each row contains the petal length and the petal width of an iris  from the species *versicolour*\n",
    "\n",
    "We suggest you to print those two arrays to make sure you understand them.\n",
    "\n",
    "### TODO 8\n",
    "\n",
    "We ask you to plot, with the length on the $x$-axis and the width on the $y$-axis, the data from `setosa_np` in red (since `setosa_np` has $50$ rows, you should plot $50$ red dots, where each dot indicates the petal length and the petal width of a cetosa iris) and similarly, the data from `versicolour_np` in blue.\n",
    "\n",
    "Note: if you would like to understand the code used to build `setosa_np` and `versicolour_np`, you can read the section \"Importing and exporting a csv\" in the numpy tutorial."
   ]
  },
  {
   "cell_type": "code",
   "execution_count": null,
   "id": "2abde5a8",
   "metadata": {},
   "outputs": [],
   "source": [
    "import pandas as pd\n",
    "\n",
    "setosa_np = pd.read_csv('iris_setosa.csv', usecols=['petal_length', 'petal_width']).values\n",
    "versicolour_np = pd.read_csv('iris_versicolour.csv', usecols=['petal_length', 'petal_width']).values\n",
    "\n",
    "# YOUR CODE HERE"
   ]
  },
  {
   "attachments": {
    "Screenshot%20from%202023-02-08%2022-11-58.png": {
     "image/png": "[encoded data removed]"
    }
   },
   "cell_type": "markdown",
   "id": "006c57cb",
   "metadata": {},
   "source": [
    "If your code is correct, your dataset should look like this:\n",
    "\n",
    "![Screenshot%20from%202023-02-08%2022-11-58.png](attachment:Screenshot%20from%202023-02-08%2022-11-58.png)"
   ]
  },
  {
   "cell_type": "code",
   "execution_count": null,
   "id": "45041e15",
   "metadata": {},
   "outputs": [],
   "source": []
  }
 ],
 "metadata": {
  "kernelspec": {
   "display_name": "Python 3 (ipykernel)",
   "language": "python",
   "name": "python3"
  },
  "language_info": {
   "codemirror_mode": {
    "name": "ipython",
    "version": 3
   },
   "file_extension": ".py",
   "mimetype": "text/x-python",
   "name": "python",
   "nbconvert_exporter": "python",
   "pygments_lexer": "ipython3",
   "version": "3.11.11"
  }
 },
 "nbformat": 4,
 "nbformat_minor": 5
}
